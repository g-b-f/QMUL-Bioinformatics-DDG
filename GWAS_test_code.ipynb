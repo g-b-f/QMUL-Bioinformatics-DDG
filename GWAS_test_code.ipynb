{
 "cells": [
  {
   "cell_type": "code",
   "execution_count": null,
   "id": "f724a766-6c65-4218-9a73-e0f8d438b74c",
   "metadata": {
    "tags": []
   },
   "outputs": [
    {
     "name": "stdout",
     "output_type": "stream",
     "text": [
      " * Serving Flask app \"__main__\" (lazy loading)\n",
      " * Environment: production\n",
      "\u001b[31m   WARNING: This is a development server. Do not use it in a production deployment.\u001b[0m\n",
      "\u001b[2m   Use a production WSGI server instead.\u001b[0m\n",
      " * Debug mode: off\n"
     ]
    },
    {
     "name": "stderr",
     "output_type": "stream",
     "text": [
      " * Running on http://127.0.0.1:5000/ (Press CTRL+C to quit)\n",
      "C:\\Users\\lewle\\AppData\\Local\\Temp\\ipykernel_12768\\749457661.py:20: DtypeWarning: Columns (9,12,23) have mixed types. Specify dtype option on import or set low_memory=False.\n",
      "  df = pd.read_csv(Association_table_filename, sep='\\t', index_col='SNPS')\n",
      "127.0.0.1 - - [25/Jan/2023 10:21:01] \"GET /SNP/rs16342 HTTP/1.1\" 200 -\n"
     ]
    }
   ],
   "source": [
    "from flask import Flask, jsonify\n",
    "import pandas as pd\n",
    "\n",
    "#Create flask object \n",
    "app = Flask(__name__)\n",
    "\n",
    "# tell code where to find protein information\n",
    "Association_table_filename = 'gwas_catalog_association.tsv'\n",
    "\n",
    "#Define the action for the top level route\n",
    "@app.route('/')\n",
    "def index():\n",
    "        return 'Welcome to Team Duck'\n",
    "    \n",
    "    \n",
    "# define a routed called 'SNP' that accepts a SNP name parameter\n",
    "@app.route('/SNP/<SNPS>')\n",
    "def SNP(SNPS):\n",
    "    # load protein data from TSV file into pandas dataframe\n",
    "    df = pd.read_csv(Association_table_filename, sep='\\t', index_col='SNPS')\n",
    "    \n",
    "    \n",
    "    SNPS = SNPS.lower()\n",
    "    try:  # try to extract row for specified protein\n",
    "        row = df.loc[SNPS]\n",
    "        # if protein is found, return some information about it\n",
    "        return '<h1>' + SNPS + '</h1>' \\\n",
    "        + '<p>Genomic Position: ' + row.CHR_POS + '</p>' \\\n",
    "        + '<p>Mapped Genes: ' + row.MAPPED_GENE + '</p>' \\\n",
    "        #+ '<p>P-value: ' + row.'P-VALUE' + '</p>'\n",
    "        #+ '<p>Allele Frequency: ' + row.'RISK ALLELE FREQUENCY' + '</p>' \\\n",
    "            \n",
    "    except:\n",
    "        # if protein is not found a key error is thrown and we end up here\n",
    "            return \"We don't have any information about a protein called %s.\" % SNPS\n",
    "\n",
    "#start the server\n",
    "if __name__ == '__main__' :\n",
    "    app.run(debug=False) \n",
    "    \n",
    "    "
   ]
  },
  {
   "cell_type": "code",
   "execution_count": null,
   "id": "8fad0147-be2f-41c9-b5c9-1ecdbbda11a0",
   "metadata": {},
   "outputs": [],
   "source": []
  },
  {
   "cell_type": "code",
   "execution_count": null,
   "id": "88b0e330-3f46-4ee4-b7f2-d42234f03823",
   "metadata": {},
   "outputs": [],
   "source": []
  },
  {
   "cell_type": "code",
   "execution_count": null,
   "id": "ffc277af-7490-4cf3-860c-eaa510c25509",
   "metadata": {},
   "outputs": [],
   "source": []
  }
 ],
 "metadata": {
  "kernelspec": {
   "display_name": "Python 3 (ipykernel)",
   "language": "python",
   "name": "python3"
  },
  "language_info": {
   "codemirror_mode": {
    "name": "ipython",
    "version": 3
   },
   "file_extension": ".py",
   "mimetype": "text/x-python",
   "name": "python",
   "nbconvert_exporter": "python",
   "pygments_lexer": "ipython3",
   "version": "3.9.13"
  }
 },
 "nbformat": 4,
 "nbformat_minor": 5
}
