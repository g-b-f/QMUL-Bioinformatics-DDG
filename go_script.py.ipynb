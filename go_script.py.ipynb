{
 "cells": [
  {
   "cell_type": "code",
   "execution_count": null,
   "metadata": {},
   "outputs": [],
   "source": [
    "import requests\n",
    "\n",
    "def get_go_terms(rsid):\n",
    "    query_url = f\"https://www.ebi.ac.uk/QuickGO/services/annotation/search?includeFields=goName&aspect=biological_process&geneProductId={rsid}\"\n",
    "    response = requests.get(query_url)\n",
    "    print(f\"Status code: {response.status_code}\")\n",
    "    print(f\"Response text: {response.text}\")\n",
    "    if response.status_code == 200:\n",
    "        results = response.json()[\"results\"]\n",
    "        go_terms = [result[\"goName\"] for result in results]\n",
    "        return go_terms\n",
    "    else:\n",
    "        return []\n",
    "\n",
    "rsids = [\"rs1538171\", \"rs4320356\", \"rs1770\",\"rs2647044\",\"rs11755527\",\"rs9388489\",\"rs9268645\",\"rs9272346\",\"rs3757247\",\"rs924043\",\"rs1050979\",\"rs9405661\",\"rs12665429\",\"rs212408\",\"rs72928038\",\"rs2045258\",\"rs9273363\",\"rs1578060\",\"rs138748427\",\"rs9273367\",\"rs17711850\"]\n",
    "all_go_terms = []\n",
    "for rsid in rsids:\n",
    "    go_terms = get_go_terms(rsid)\n",
    "    all_go_terms.append(go_terms)\n",
    "print(all_go_terms)"
   ]
  }
 ],
 "metadata": {
  "kernelspec": {
   "display_name": "Python 3",
   "language": "python",
   "name": "python3"
  },
  "language_info": {
   "codemirror_mode": {
    "name": "ipython",
    "version": 3
   },
   "file_extension": ".py",
   "mimetype": "text/x-python",
   "name": "python",
   "nbconvert_exporter": "python",
   "pygments_lexer": "ipython3",
   "version": "3.8.5"
  }
 },
 "nbformat": 4,
 "nbformat_minor": 4
}
