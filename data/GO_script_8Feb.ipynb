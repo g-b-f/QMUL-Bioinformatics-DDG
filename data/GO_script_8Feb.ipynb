{
 "cells": [
  {
   "cell_type": "code",
   "execution_count": null,
   "id": "70dabca9-2b82-4558-a7a9-537bf019cce2",
   "metadata": {},
   "outputs": [],
   "source": [
    "import requests\n",
    "import logging\n",
    "\n",
    "logging.basicConfig(filename='quickgo_api.log', level=logging.WARNING)\n",
    "\n",
    "def get_biol_func(go_term):\n",
    "    url = f\"https://www.ebi.ac.uk/QuickGO/services/ontology/go/terms/{go_term}\"\n",
    "    response = requests.get(url)\n",
    "    if response.status_code == 200:\n",
    "        data = response.json()\n",
    "        if data['results']:\n",
    "            aspect = data['results'][0]['aspect']\n",
    "            if aspect == \"molecular_function\":\n",
    "                return data['results'][0]['name']\n",
    "            else:\n",
    "                logging.warning(f\"GO term {go_term} is not a molecular function\")\n",
    "                return ''\n",
    "        else:\n",
    "            logging.warning(f\"No results for GO term {go_term}\")\n",
    "            return ''\n",
    "    else:\n",
    "        logging.error(f\"API request failed with status code {response.status_code} for GO term {go_term}\")\n",
    "        return ''\n",
    "\n",
    "def update_tsv(tsv_file):\n",
    "    with open(tsv_file, 'r') as f:\n",
    "        lines = f.readlines()\n",
    "    header = lines[0].strip()\n",
    "    header += '\\tBiological Molecular Function\\n'\n",
    "    new_lines = [header]\n",
    "    for line in lines[1:]:\n",
    "        rsid, go_term = line.strip().split('\\t')\n",
    "        biol_func = get_biol_func(go_term)\n",
    "        new_lines.append(f\"{rsid}\\t{go_term}\\t{biol_func}\\n\")\n",
    "    with open(tsv_file, 'w') as f:\n",
    "        f.writelines(new_lines)\n",
    "\n",
    "update_tsv('filtered_go_data.tsv')\n"
   ]
  },
  {
   "cell_type": "code",
   "execution_count": null,
   "id": "0c03aae4-0b0b-4413-9237-748112d07c73",
   "metadata": {},
   "outputs": [],
   "source": []
  }
 ],
 "metadata": {
  "kernelspec": {
   "display_name": "Python 3 (ipykernel)",
   "language": "python",
   "name": "python3"
  },
  "language_info": {
   "codemirror_mode": {
    "name": "ipython",
    "version": 3
   },
   "file_extension": ".py",
   "mimetype": "text/x-python",
   "name": "python",
   "nbconvert_exporter": "python",
   "pygments_lexer": "ipython3",
   "version": "3.10.6"
  }
 },
 "nbformat": 4,
 "nbformat_minor": 5
}
