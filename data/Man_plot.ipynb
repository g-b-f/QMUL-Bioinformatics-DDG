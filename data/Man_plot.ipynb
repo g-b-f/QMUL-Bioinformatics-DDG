{
 "cells": [
  {
   "cell_type": "code",
   "execution_count": 39,
   "id": "dc603d84-4a58-45d8-a36a-9821785bf04b",
   "metadata": {},
   "outputs": [],
   "source": [
    "## Manhattan plot using Bokeh\n",
    "import pandas as pd\n",
    "from bokeh.plotting import figure\n",
    "from bokeh.plotting import figure,show, output_file\n",
    "from bokeh.models import TickFormatter, FuncTickFormatter, FixedTicker\n",
    "from bokeh.transform import linear_cmap\n",
    "from bokeh.embed import components\n",
    "from bokeh.core.properties import Dict, Int, String\n",
    "\n",
    "# View data using pandas\n",
    "df = pd.read_csv('.\\TSVs\\T1D_GWAS_add.tsv', sep='\\t')\n",
    "# Seperate by chromosome ID, and colour them\n",
    "df.CHR_ID.unique()\n",
    "index_cmap = linear_cmap('CHR_ID', palette = ['grey','black']*11,low=1,high=22)\n",
    "# Format figure\n",
    "p=figure(plot_width=700, # graph size\n",
    "         plot_height=400, # graph size\n",
    "         title = None, # Title added in html\n",
    "         toolbar_location=None, \n",
    "         tools=\"hover\", # Allows mouse hover to bring up information\n",
    "         tooltips=\"@SNPS: (@CHR_ID,@CHR_POS)\" # Shows when mouse is hovered over plot\n",
    "         )\n",
    "\n",
    "# Create Manhattan Plot\n",
    "p.scatter('cumulative_pos','-logp', # x,y for scatter graph\n",
    "          source=df, # Source of data from the tsv file\n",
    "          fill_alpha=0.8, # Thickness of line around plot \n",
    "          fill_color=index_cmap, # Colour of plot\n",
    "          size=6 #legend='CHR_ID' # Removed legend, size of plot\n",
    "        )\n",
    "\n",
    "p.xaxis.axis_label= 'Chromosome' # x-axis label \n",
    "p.yaxis.axis_label= '-logp' # y-axis label\n",
    "#p.legend.location = \"top_left\" # legend will be removed once x-axis is fixed\n",
    "#ticker = FixedTicker()\n",
    "#ticker.ticks = first_day_of_month\n",
    "CustomFuncTickFormatter = FuncTickFormatter(code = '''\n",
    "return {(df.groupby('CHR_ID'):['cumulative_pos']}[tick]\n",
    "''')\n",
    "\n",
    "\n",
    "script, div = components(p)\n",
    "\n",
    "show(p)\n"
   ]
  },
  {
   "cell_type": "code",
   "execution_count": 11,
   "id": "dd32ba16",
   "metadata": {},
   "outputs": [
    {
     "name": "stderr",
     "output_type": "stream",
     "text": [
      "BokehDeprecationWarning: 'legend' keyword is deprecated, use explicit 'legend_label', 'legend_field', or 'legend_group' keywords instead\n"
     ]
    }
   ],
   "source": [
    "\n",
    "### THE OLD MATPLOTLIB MANHATTAN PLOT\n",
    "\n",
    "#import pandas as pd\n",
    "#import numpy as np\n",
    "#import seaborn as sns\n",
    "#import matplotlib.pyplot as plt\n",
    "\n",
    "\n",
    "#df = pd.read_csv('.\\TSVs\\T1D_GWAS_add.tsv', sep='\\t')\n",
    "\n",
    "#my_data = df.sample(642)\n",
    "\n",
    "#g=sns.relplot(\n",
    "    #data = my_data, # for whole genome this number will be 10000, or however many you want to see\n",
    "    #x= 'cumulative_pos',\n",
    "    #y= '-logp',\n",
    "    #aspect = 5, # size of graph\n",
    "    #hue = 'CHR_ID', # for whole genome this is the chromosome\n",
    "    #palette= ['grey','black'] * 11, #random colour scheme, can be changed to any colour(s)\n",
    "    #linewidth=0,\n",
    "    #size=6,\n",
    "    #legend=None\n",
    "    #)\n",
    "\n",
    "# Editing x-axis and making it neater\n",
    "#g.ax.set_xlabel('Chromosome') # x-axis label\n",
    "\n",
    "# Setting where the labels in the x-axis should be\n",
    "#g.ax.set_xticks(df.groupby('CHR_ID')['cumulative_pos'].median())\n",
    "#g.ax.set_xticklabels(df['CHR_ID'].unique())\n",
    "\n",
    "\n",
    "# Add title to graph\n",
    "#g.fig.suptitle('Manhatton Plot showing Association between SNPs and T1DM in GWAS')\n",
    "\n",
    "# Create annotations for each SNP point\n",
    "#annotations = my_data[my_data['-logp'] > 20].apply(lambda p : g.ax.annotate(p['SNPS'], (p['cumulative_pos'], p['-logp'])), axis=1).to_list()\n",
    "\n",
    "#adjust_text(annotations, arrowprops = {'arrowstyle': '->', 'color':'blue'})\n"
   ]
  },
  {
   "cell_type": "markdown",
   "id": "dd490ca0",
   "metadata": {},
   "source": []
  }
 ],
 "metadata": {
  "kernelspec": {
   "display_name": "Python 3",
   "language": "python",
   "name": "python3"
  },
  "language_info": {
   "codemirror_mode": {
    "name": "ipython",
    "version": 3
   },
   "file_extension": ".py",
   "mimetype": "text/x-python",
   "name": "python",
   "nbconvert_exporter": "python",
   "pygments_lexer": "ipython3",
   "version": "3.9.7"
  },
  "vscode": {
   "interpreter": {
    "hash": "d3979e0c8db77b3c34b8d304a6ee44c4275d54aacc4afce6d4328eb08cdec0d6"
   }
  }
 },
 "nbformat": 4,
 "nbformat_minor": 5
}
