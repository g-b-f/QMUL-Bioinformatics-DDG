{
 "cells": [
  {
   "attachments": {},
   "cell_type": "markdown",
   "metadata": {},
   "source": [
    "# Data Cleaner\n",
    "\n",
    "Different scripts to clean and trim our data"
   ]
  },
  {
   "cell_type": "code",
   "execution_count": 1,
   "metadata": {},
   "outputs": [],
   "source": [
    "from db_scripts import *"
   ]
  },
  {
   "attachments": {},
   "cell_type": "markdown",
   "metadata": {},
   "source": [
    "Functional data:"
   ]
  },
  {
   "cell_type": "code",
   "execution_count": 2,
   "metadata": {},
   "outputs": [],
   "source": [
    "fileIn=getPath('Func_trimmed.csv')\n",
    "fileOut=getPath('Func_trimmed_clean.tsv')\n",
    "\n",
    "data=pd.read_csv(fileIn)\n",
    "# Get list of duplicate values\n",
    "dupeList = data.duplicated(subset=['Uploaded_variation','Allele'])\n",
    "# Select only non-duplicates\n",
    "data=data[~dupeList]\n",
    "data=removeSpecial(data)\n",
    "data.rename(columns = {'uploaded_variation':'rsid'}, inplace = True)\n",
    "data = data[['rsid','allele','cadd_phred', 'cadd_raw']]\n",
    "\n",
    "data.to_csv(fileOut, sep='\\t', index=False)"
   ]
  },
  {
   "attachments": {},
   "cell_type": "markdown",
   "metadata": {},
   "source": [
    "Population data:"
   ]
  },
  {
   "cell_type": "code",
   "execution_count": 3,
   "metadata": {},
   "outputs": [],
   "source": [
    "fileIn=getPath('population_variation.tsv')\n",
    "fileOut=getPath('population_variation_noSpecial.tsv')\n",
    "\n",
    "data=pd.read_csv(fileIn,sep='\\t')\n",
    "data=removeSpecial(data) # Removes special characters\n",
    "data.rename(columns = {'snp_rsid':'rsid'}, inplace = True)\n",
    "\n",
    "data.to_csv(fileOut, sep='\\t', index=False)"
   ]
  },
  {
   "attachments": {},
   "cell_type": "markdown",
   "metadata": {},
   "source": [
    "GWAS:"
   ]
  },
  {
   "cell_type": "code",
   "execution_count": 4,
   "metadata": {},
   "outputs": [],
   "source": [
    "fileIn = getPath(\"T1D_GWAS_add.tsv\")\n",
    "fileOut = getPath(\"T1D_GWAS_add_clean.tsv\")\n",
    "\n",
    "data = pd.read_csv(fileIn, sep='\\t') # Reads gwas tsv\n",
    "data.rename(columns = {'snps':'rsid','unnamed_0':'i'}, inplace = True)\n",
    "dat=data.astype({'chr_id':'int64'})\n",
    "data=removeSpecial(data)  # removes special characters in column names\n",
    "data = data.loc[data.rsid.str.contains(r'rs[0-9]+')] # get only snps with rsids\n",
    "data=removeDupeSNP(data) # Remove duplicates (leaving the entry with largest p value)\n",
    "\n",
    "data.to_csv(fileOut, sep='\\t', index=False)"
   ]
  },
  {
   "attachments": {},
   "cell_type": "markdown",
   "metadata": {},
   "source": [
    "Ontology:"
   ]
  },
  {
   "cell_type": "code",
   "execution_count": 5,
   "metadata": {},
   "outputs": [],
   "source": [
    "fileIn = getPath(\"GO_trimmed.csv\")\n",
    "fileOut = getPath(\"GO_new.tsv\")\n",
    "\n",
    "data = pd.read_csv(fileIn)\n",
    "data=removeSpecial(data)    # removes special characters in column names\n",
    "data.rename(columns = {'uploaded_variation':'rsid'}, inplace = True)\n",
    "\n",
    "data2={'rsid':[],'go':[],'term':[]}\n",
    "for i,row in data.iterrows():\n",
    "    rs=row['rsid']\n",
    "    go=row['go']\n",
    "    go=go.replace('_',' ')\n",
    "    go=go.split(',')\n",
    "\n",
    "    try:\n",
    "        goCols=[\"GO:\"+str(i.split(':')[1]) for i in go]\n",
    "        termCols=[i.split(':')[2] for i in go]\n",
    "    except:         # If data unavailable,\n",
    "        continue    # skip to next row.\n",
    "\n",
    "    data2['rsid'].extend([rs for _ in goCols])\n",
    "    data2['go'].extend(goCols)\n",
    "    data2['term'].extend(termCols)\n",
    "\n",
    "data2=pd.DataFrame(data2)\n",
    "\n",
    "dupeList = data2.duplicated(subset='go')   # Get list of duplicate values\n",
    "data2 = data2[~dupeList]\n",
    "\n",
    "data2.to_csv(fileOut, sep='\\t', index=False)"
   ]
  },
  {
   "attachments": {},
   "cell_type": "markdown",
   "metadata": {},
   "source": [
    "Create DB"
   ]
  },
  {
   "cell_type": "code",
   "execution_count": 6,
   "metadata": {},
   "outputs": [
    {
     "name": "stdout",
     "output_type": "stream",
     "text": [
      "\n",
      "done\n",
      "\n"
     ]
    }
   ],
   "source": [
    "gwas = getPath(\"T1D_GWAS_add_clean.tsv\")\n",
    "pop  = getPath(\"population_variation_noSpecial.tsv\")\n",
    "func = getPath('Func_trimmed.tsv')\n",
    "ont  = getPath(\"GO_new.tsv\")\n",
    "DB=DBpath()\n",
    "\n",
    "if os.path.exists(DB):      # If the file exists,\n",
    "    os.remove(DB)           # delete it.\n",
    "\n",
    "pdDB(gwas, \"gwas\",       {\"rsid\":\"TEXT PRIMARY KEY\", \"chr_id\":\"INTEGER\",\"chr_pos\":\"INTEGER\"})\n",
    "pdDB(pop,  \"population\", {\"rsid\":\"TEXT REFERENCES gwas(rsid)\"})\n",
    "pdDB(func, \"functional\", {\"rsid\":\"TEXT REFERENCES gwas(rsid)\"})\n",
    "pdDB(ont,  \"ontology\",   {\"rsid\":\"INTEGER REFERENCES gwas(rsid)\"})\n",
    "\n",
    "print(\"\\ndone\\n\")"
   ]
  }
 ],
 "metadata": {
  "kernelspec": {
   "display_name": "Python 3",
   "language": "python",
   "name": "python3"
  },
  "language_info": {
   "codemirror_mode": {
    "name": "ipython",
    "version": 3
   },
   "file_extension": ".py",
   "mimetype": "text/x-python",
   "name": "python",
   "nbconvert_exporter": "python",
   "pygments_lexer": "ipython3",
   "version": "3.10.10"
  },
  "orig_nbformat": 4,
  "vscode": {
   "interpreter": {
    "hash": "958ecc49f845cae67b922f9a0ace456f2aeb07b09c0ec55961dea76115aaae27"
   }
  }
 },
 "nbformat": 4,
 "nbformat_minor": 2
}
