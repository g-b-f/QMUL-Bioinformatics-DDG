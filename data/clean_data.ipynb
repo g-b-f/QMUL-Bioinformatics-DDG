{
 "cells": [
  {
   "attachments": {},
   "cell_type": "markdown",
   "metadata": {},
   "source": [
    "# Data Cleaner\n",
    "\n",
    "Different scripts to clean and trim our data"
   ]
  },
  {
   "cell_type": "code",
   "execution_count": 7,
   "metadata": {},
   "outputs": [],
   "source": [
    "from db_scripts import *"
   ]
  },
  {
   "attachments": {},
   "cell_type": "markdown",
   "metadata": {},
   "source": [
    "GWAS dataset:"
   ]
  },
  {
   "cell_type": "code",
   "execution_count": 14,
   "metadata": {},
   "outputs": [],
   "source": [
    "fileIn = getPath('gwas_catalog_v1.0-associations_e108_r2023-01-14.tsv') # https://www.ebi.ac.uk/gwas/docs/file-downloads\n",
    "fileOut = getPath('gwas_trimmed.tsv')\n",
    "\n",
    "data = pd.read_csv(fileIn, sep='\\t', low_memory=False)    # Reads gwas tsv\n",
    "data = data.loc[data['DISEASE/TRAIT']=='Type 1 diabetes']   # Select only rows regarding type 1 diabetes\n",
    "data = data.loc[data['CHR_ID']=='6']                        # Select only rows for chromosome 6\n",
    "data = data[[\"SNPS\",\"REGION\",\"CHR_POS\",\"P-VALUE\",\"MAPPED_GENE\"]] # maybe also include STRONGEST SNP-RISK ALLELE and RISK ALLELE FREQUENCY ?\n",
    "\n",
    "renameDict={}\n",
    "for col in data.columns:\n",
    "    newCol = re.sub(r'\\W+', '_', col)   # Replaces special characters and whitespace with underscores\n",
    "    renameDict.update({col:newCol})\n",
    "data=data.rename(columns=renameDict)\n",
    "\n",
    "data=removeDupeSNP(data)      # Remove duplicates (leaving the entry with largest p value)\n",
    "\n",
    "if os.path.exists(fileOut):        # If the file exists,\n",
    "    os.remove(filepath)             # delete it.\n",
    "data.to_csv(filepath, sep='\\t')"
   ]
  },
  {
   "attachments": {},
   "cell_type": "markdown",
   "metadata": {},
   "source": [
    "Functional data:"
   ]
  },
  {
   "cell_type": "code",
   "execution_count": 20,
   "metadata": {},
   "outputs": [],
   "source": [
    "fileIn=getPath('Func_data.tsv')\n",
    "fileOut=getPath('Func_data_clean.tsv')\n",
    "\n",
    "data=pd.read_csv(fileIn,sep='\\t')\n",
    "\n",
    "# print(data) # multiple duplicate rs values, need to decide way to break ties\n",
    "dupeList = data.duplicated(subset=['#Uploaded_variation','Allele'])   # Get list of duplicate values\n",
    "filtered=data[~dupeList]\n",
    "filtered.to_csv(fileOut, sep='\\t')"
   ]
  },
  {
   "cell_type": "code",
   "execution_count": null,
   "metadata": {},
   "outputs": [],
   "source": []
  }
 ],
 "metadata": {
  "kernelspec": {
   "display_name": "Python 3",
   "language": "python",
   "name": "python3"
  },
  "language_info": {
   "codemirror_mode": {
    "name": "ipython",
    "version": 3
   },
   "file_extension": ".py",
   "mimetype": "text/x-python",
   "name": "python",
   "nbconvert_exporter": "python",
   "pygments_lexer": "ipython3",
   "version": "3.10.8"
  },
  "orig_nbformat": 4,
  "vscode": {
   "interpreter": {
    "hash": "958ecc49f845cae67b922f9a0ace456f2aeb07b09c0ec55961dea76115aaae27"
   }
  }
 },
 "nbformat": 4,
 "nbformat_minor": 2
}
