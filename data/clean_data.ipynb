{
 "cells": [
  {
   "attachments": {},
   "cell_type": "markdown",
   "metadata": {},
   "source": [
    "# Data Cleaner\n",
    "\n",
    "Different scripts to clean and trim our data\n",
    "\n",
    "**TODO: make rs values integers by removing \"rs\"**"
   ]
  },
  {
   "cell_type": "code",
   "execution_count": 2,
   "metadata": {},
   "outputs": [],
   "source": [
    "from db_scripts import *"
   ]
  },
  {
   "attachments": {},
   "cell_type": "markdown",
   "metadata": {},
   "source": [
    "GWAS dataset:"
   ]
  },
  {
   "cell_type": "code",
   "execution_count": 13,
   "metadata": {},
   "outputs": [],
   "source": [
    "fileIn = getPath('gwas_catalog_v1.0-associations_e108_r2023-01-14.tsv') # https://www.ebi.ac.uk/gwas/docs/file-downloads\n",
    "# fileOut = getPath('gwas_trimmed_beeg.tsv')\n",
    "fileOut = getPath('gwas_trimmed.tsv')\n",
    "\n",
    "data = pd.read_csv(fileIn, sep='\\t', low_memory=False)    # Reads gwas tsv\n",
    "data=removeSpecial(data)    # removes special characters in column names\n",
    "data=data.query(\"DISEASE_TRAIT=='Type 1 diabetes' or STUDY.str.contains('type 1 diabetes')\")\n",
    "data = data.loc[data.SNPS.str.contains(r'rs[0-9]+')]        # get only snps with rsids\n",
    "#data = data.loc[data['CHR_ID']=='6']                        # Select only rows for chromosome 6\n",
    "\n",
    "data = data[[\"SNPS\",\"REGION\",\"CHR_POS\",\"P_VALUE\",\"MAPPED_GENE\"]] # maybe also include STRONGEST SNP-RISK ALLELE and RISK ALLELE FREQUENCY ?\n",
    "\n",
    "data=removeDupeSNP(data)    # Remove duplicates (leaving the entry with largest p value)\n",
    "data.rename(columns = {'SNPS':'rsid'}, inplace = True)\n",
    "\n",
    "# if os.path.exists(fileOut): # If the file exists,\n",
    "#     os.remove(fileOut)     # delete it.\n",
    "data.to_csv(fileOut, sep='\\t')"
   ]
  },
  {
   "attachments": {},
   "cell_type": "markdown",
   "metadata": {},
   "source": [
    "Functional data:"
   ]
  },
  {
   "cell_type": "code",
   "execution_count": 14,
   "metadata": {},
   "outputs": [],
   "source": [
    "# fileIn=getPath('Functional_and_Ontology_data.tsv')\n",
    "fileIn=getPath('func_data.tsv')\n",
    "fileOut=getPath('Func_trimmed.tsv')\n",
    "\n",
    "data=pd.read_csv(fileIn,sep='\\t')\n",
    "dupeList = data.duplicated(subset=['#Uploaded_variation','Allele'])   # Get list of duplicate values\n",
    "data=data[~dupeList]\n",
    "data=removeSpecial(data)\n",
    "data.rename(columns = {'Uploaded_variation':'rsid'}, inplace = True)\n",
    "data = data[['rsid','Allele','CADD_PHRED', 'CADD_RAW']]#, 'PolyPhen', 'SIFT']] # maybe re-add polyphen and sift later\n",
    "\n",
    "# data=castRS(data, \"Uploaded_variation\") # converts rs value column to integer\n",
    "data.to_csv(fileOut, sep='\\t')"
   ]
  },
  {
   "attachments": {},
   "cell_type": "markdown",
   "metadata": {},
   "source": [
    "Population data:"
   ]
  },
  {
   "cell_type": "code",
   "execution_count": 19,
   "metadata": {},
   "outputs": [],
   "source": [
    "fileIn=getPath('population_variation.tsv')\n",
    "fileOut=getPath('population_variation_noSpecial.tsv')\n",
    "\n",
    "data=pd.read_csv(fileIn,sep='\\t')\n",
    "data=removeSpecial(data)        # Removes special characters\n",
    "data.rename(columns = {'SNP_rsID':'rsid'}, inplace = True)\n",
    "\n",
    "# data=castRS(data,\"SNP_rsID\")    # converts rs value column to integer\n",
    "data.to_csv(fileOut, sep='\\t')"
   ]
  },
  {
   "attachments": {},
   "cell_type": "markdown",
   "metadata": {},
   "source": [
    "Func data 2:"
   ]
  },
  {
   "cell_type": "code",
   "execution_count": 12,
   "metadata": {},
   "outputs": [],
   "source": [
    "if 0:   # disable for the time being\n",
    "    fileIn=getPath('Functional_and_Ontology_data.tsv')\n",
    "    fileOut=getPath('Func_trimmed.tsv')\n",
    "\n",
    "    Association_table_filename = 'Functional_and_Ontology_data.tsv'\n",
    "    df = pd.read_csv(fileIn, sep='\\t')\n",
    "    columns_to_keep = ['#Uploaded_variation','Allele','CADD_PHRED', 'CADD_RAW', 'PolyPhen', 'SIFT']\n",
    "    df = df[columns_to_keep]\n",
    "    # print(df)\n",
    "    df=removeSpecial(df)    # removes special characters in column names\n",
    "    df.to_csv(fileOut,sep='\\t')"
   ]
  }
 ],
 "metadata": {
  "kernelspec": {
   "display_name": "Python 3",
   "language": "python",
   "name": "python3"
  },
  "language_info": {
   "codemirror_mode": {
    "name": "ipython",
    "version": 3
   },
   "file_extension": ".py",
   "mimetype": "text/x-python",
   "name": "python",
   "nbconvert_exporter": "python",
   "pygments_lexer": "ipython3",
   "version": "3.10.10"
  },
  "orig_nbformat": 4,
  "vscode": {
   "interpreter": {
    "hash": "958ecc49f845cae67b922f9a0ace456f2aeb07b09c0ec55961dea76115aaae27"
   }
  }
 },
 "nbformat": 4,
 "nbformat_minor": 2
}
