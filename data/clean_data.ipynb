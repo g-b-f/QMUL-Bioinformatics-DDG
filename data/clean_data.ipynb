{
 "cells": [
  {
   "attachments": {},
   "cell_type": "markdown",
   "metadata": {},
   "source": [
    "# Data Cleaner\n",
    "\n",
    "Different scripts to clean and trim our data\n",
    "\n",
    "**TODO: make rs values integers by removing \"rs\"**"
   ]
  },
  {
   "cell_type": "code",
   "execution_count": 1,
   "metadata": {},
   "outputs": [],
   "source": [
    "from db_scripts import *"
   ]
  },
  {
   "attachments": {},
   "cell_type": "markdown",
   "metadata": {},
   "source": [
    "GWAS dataset:"
   ]
  },
  {
   "cell_type": "code",
   "execution_count": 2,
   "metadata": {},
   "outputs": [],
   "source": [
    "fileIn = getPath('gwas_catalog_v1.0-associations_e108_r2023-01-14.tsv') # https://www.ebi.ac.uk/gwas/docs/file-downloads\n",
    "fileOut = getPath('gwas_trimmed.tsv')\n",
    "\n",
    "data = pd.read_csv(fileIn, sep='\\t', low_memory=False)    # Reads gwas tsv\n",
    "data = data.loc[data['DISEASE/TRAIT']=='Type 1 diabetes']   # Select only rows regarding type 1 diabetes\n",
    "# # df = df.loc[df.STUDY.str.contains(r'\b(type 1 diabetes)\b')]         # Nadia's code\n",
    "data = data.loc[data['CHR_ID']=='6']                        # Select only rows for chromosome 6\n",
    "data = data[[\"SNPS\",\"REGION\",\"CHR_POS\",\"P-VALUE\",\"MAPPED_GENE\"]] # maybe also include STRONGEST SNP-RISK ALLELE and RISK ALLELE FREQUENCY ?\n",
    "\n",
    "data=removeSpecial(data)    # removes special characters in column names\n",
    "data=removeDupeSNP(data)    # Remove duplicates (leaving the entry with largest p value)\n",
    "data=castRS(data, \"SNPS\")   # converts rs value column to integer\n",
    "\n",
    "# if os.path.exists(fileOut): # If the file exists,\n",
    "#     os.remove(fileOut)     # delete it.\n",
    "data.to_csv(fileOut, sep='\\t')"
   ]
  },
  {
   "attachments": {},
   "cell_type": "markdown",
   "metadata": {},
   "source": [
    "Functional data:\n",
    "\n",
    "**TODO: Prune to only include some columns**"
   ]
  },
  {
   "cell_type": "code",
   "execution_count": 3,
   "metadata": {},
   "outputs": [],
   "source": [
    "fileIn=getPath('Func_data.tsv')\n",
    "fileOut=getPath('Func_data_clean.tsv')\n",
    "\n",
    "data=pd.read_csv(fileIn,sep='\\t')\n",
    "dupeList = data.duplicated(subset=['#Uploaded_variation','Allele'])   # Get list of duplicate values\n",
    "data=data[~dupeList]\n",
    "data=removeSpecial(data)\n",
    "data=castRS(data, \"Uploaded_variation\") # converts rs value column to integer\n",
    "data.to_csv(fileOut, sep='\\t')"
   ]
  },
  {
   "attachments": {},
   "cell_type": "markdown",
   "metadata": {},
   "source": [
    "Population data:"
   ]
  },
  {
   "cell_type": "code",
   "execution_count": 4,
   "metadata": {},
   "outputs": [],
   "source": [
    "fileIn=getPath('population_variation.tsv')\n",
    "fileOut=getPath('population_variation_noSpecial.tsv')\n",
    "\n",
    "data=pd.read_csv(fileIn,sep='\\t')\n",
    "data=removeSpecial(data)        # Removes special characters\n",
    "\n",
    "data=castRS(data,\"SNP_rsID\")    # converts rs value column to integer\n",
    "data.to_csv(fileOut, sep='\\t')"
   ]
  }
 ],
 "metadata": {
  "kernelspec": {
   "display_name": "Python 3",
   "language": "python",
   "name": "python3"
  },
  "language_info": {
   "codemirror_mode": {
    "name": "ipython",
    "version": 3
   },
   "file_extension": ".py",
   "mimetype": "text/x-python",
   "name": "python",
   "nbconvert_exporter": "python",
   "pygments_lexer": "ipython3",
   "version": "3.10.8"
  },
  "orig_nbformat": 4,
  "vscode": {
   "interpreter": {
    "hash": "958ecc49f845cae67b922f9a0ace456f2aeb07b09c0ec55961dea76115aaae27"
   }
  }
 },
 "nbformat": 4,
 "nbformat_minor": 2
}
