{
 "cells": [
  {
   "attachments": {},
   "cell_type": "markdown",
   "metadata": {},
   "source": [
    "# Cleaning the GWAS dataset\n",
    "\n",
    "Imports:"
   ]
  },
  {
   "cell_type": "code",
   "execution_count": 1,
   "metadata": {},
   "outputs": [],
   "source": [
    "import pandas as pd"
   ]
  },
  {
   "attachments": {},
   "cell_type": "markdown",
   "metadata": {},
   "source": [
    "Run on gwas catalog file \"All associations v1.0\" catalog, downloaded from [here](https://www.ebi.ac.uk/gwas/docs/file-downloads):"
   ]
  },
  {
   "cell_type": "code",
   "execution_count": null,
   "metadata": {},
   "outputs": [],
   "source": [
    "data = pd.read_csv('gwas_catalog_v1.0-associations_e108_r2023-01-14.tsv', sep='\\t', low_memory=False)\n",
    "data = data.loc[data['DISEASE/TRAIT']=='Type 1 diabetes']   # select only rows regarding type 1 diabetes\n",
    "data = data.loc[data['CHR_ID']=='6']                        # select only rows for chromosome 6\n",
    "data.to_csv('gwas_trimmed.tsv', sep='\\t')"
   ]
  },
  {
   "attachments": {},
   "cell_type": "markdown",
   "metadata": {},
   "source": [
    "Run on gwas trimmed:"
   ]
  },
  {
   "cell_type": "code",
   "execution_count": null,
   "metadata": {},
   "outputs": [],
   "source": [
    "#data2 = pd.read_csv('gwas_trimmed.tsv', sep='\\t', low_memory=False)"
   ]
  }
 ],
 "metadata": {
  "kernelspec": {
   "display_name": "Python 3",
   "language": "python",
   "name": "python3"
  },
  "language_info": {
   "codemirror_mode": {
    "name": "ipython",
    "version": 3
   },
   "file_extension": ".py",
   "mimetype": "text/x-python",
   "name": "python",
   "nbconvert_exporter": "python",
   "pygments_lexer": "ipython3",
   "version": "3.10.8"
  },
  "orig_nbformat": 4,
  "vscode": {
   "interpreter": {
    "hash": "958ecc49f845cae67b922f9a0ace456f2aeb07b09c0ec55961dea76115aaae27"
   }
  }
 },
 "nbformat": 4,
 "nbformat_minor": 2
}
